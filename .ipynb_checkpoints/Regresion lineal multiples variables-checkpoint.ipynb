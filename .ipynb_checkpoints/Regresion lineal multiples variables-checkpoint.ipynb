{
 "cells": [
  {
   "cell_type": "markdown",
   "metadata": {},
   "source": [
    "# REGRESION LINEAL MULTIVARIABLE\n",
    "\n",
    "\n",
    "En este documento se implementará el algoritmo de gradiente descendiente para calcular los precios de una casa dependiendo de su tamaño en pies y número de habitaciones."
   ]
  },
  {
   "cell_type": "code",
   "execution_count": 1,
   "metadata": {},
   "outputs": [],
   "source": [
    "import sympy as sym #libreria de matematica simbolica \n",
    "import matplotlib.pyplot as plt\n",
    "import csv\n",
    "\n",
    "%matplotlib inline\n",
    "\n",
    "#creo mi variable X la cual va ser una lista de listas donde\n",
    "# la lista X[i] representa las variables en un ejemplo de entrenamiento\n",
    "X= []\n",
    "Y = []\n",
    "n = 2 #en este ejemplo solo trabajamos con dos variables\n",
    "with open('./data/dataHouses.csv') as csvarchivo:\n",
    "    #['Size', 'Bedrooms', 'Price']\n",
    "    entrada = csv.reader(csvarchivo)\n",
    "    for reg in entrada:\n",
    "        l = []\n",
    "        l.append(1)# x[0] será 1 para poder ajustar las operaciones \n",
    "        l.append(int(reg[0]))\n",
    "        l.append(int(reg[1]))\n",
    "        X.append(l)\n",
    "        Y.append(int(reg[2]))\n",
    "        \n",
    "m = len(Y)#cantidad de ejemplos para el entrenamiento"
   ]
  },
  {
   "cell_type": "markdown",
   "metadata": {},
   "source": [
    "Ahora procederemos a crear nuestra hipotesis y una funcion para evaluar esta con un x[i] dado"
   ]
  },
  {
   "cell_type": "code",
   "execution_count": 2,
   "metadata": {},
   "outputs": [
    {
     "name": "stdout",
     "output_type": "stream",
     "text": [
      "x₁ + x₂ + 1\n",
      "5\n"
     ]
    }
   ],
   "source": [
    "#necesitamos crear las variables \n",
    "x1,x2 = sym.symbols('x1 x2', real = True)\n",
    "#Note que no se crea X0 por que esta es igual a 1\n",
    "\n",
    "Tethas = [1,1,1] #inicio en cualquier valor.\n",
    "#este arreglo se va ir modificando a medida que corra el algoritmo\n",
    "\n",
    "def MakeHipotesis(Tet, Var1, Var2):\n",
    "    '''Se encarga de crear la fucion de costo con '''\n",
    "    H = Tet[0] + Tet[1]*Var1 + Tet[2]*Var2\n",
    "    return H\n",
    "\n",
    "Hipotesis = MakeHipotesis(Tethas, x1, x2)\n",
    "sym.pprint(Hipotesis) #mostramos la ecuacion\n",
    "\n",
    "\n",
    "def CalcHipotesis(H,Xi):\n",
    "    return Hipotesis.subs({x1:Xi[1], x2:Xi[2]})#si quiero evaluarla 0\n",
    "    \n",
    "print(CalcHipotesis(Hipotesis, [1,2,2]))"
   ]
  },
  {
   "cell_type": "markdown",
   "metadata": {},
   "source": [
    "Ahora se va definir una funcion que calcule el error cuadratico medio con el conjunto de prueba"
   ]
  },
  {
   "cell_type": "code",
   "execution_count": 3,
   "metadata": {},
   "outputs": [
    {
     "name": "stdout",
     "output_type": "stream",
     "text": [
      "64828197300.7979\n"
     ]
    }
   ],
   "source": [
    "\n",
    "def CostFunction(H,X,Y):\n",
    "    '''funcion que calcula el error cuadratico medio'''\n",
    "    res = 0\n",
    "    for i in range(0,m):\n",
    "        res += (1/(2*m)) * ((CalcHipotesis(H,X[i])- Y[i]))**2\n",
    "    return res\n",
    "        \n",
    "\n",
    "print(CostFunction(Hipotesis,X,Y))"
   ]
  },
  {
   "cell_type": "markdown",
   "metadata": {},
   "source": [
    "Ahora vamos a crear el algoritmo del gradiente descendiente para una sola iteracion y vamos  a validar que la funcion de costo disminuya su valor"
   ]
  },
  {
   "cell_type": "code",
   "execution_count": 4,
   "metadata": {},
   "outputs": [],
   "source": [
    "def GradienteDes(H, Thetas, X, Y, alpha):\n",
    "    \n",
    "    for theta in range(len(Thetas)):\n",
    "        \n",
    "        #desplazo Thetha[i]\n",
    "        calcderivada = 0 #resultado del calculo\n",
    "        for i in range(m):\n",
    "            \n",
    "            #calculo la cantidad que voy a restarle al valor actual de theha\n",
    "            calcderivada += (1/m) * (CalcHipotesis(H,X[i]) - Y[i] ) * X[i][theta]\n",
    "            \n",
    "        #calculo el nuevo thetha\n",
    "        Thetas[theta] = Thetas[theta] - (alpha * calcderivada)\n",
    "        \n",
    "            \n"
   ]
  },
  {
   "cell_type": "markdown",
   "metadata": {},
   "source": [
    "Ahora se procede a ejecutar el algoritmo del gradiente varias veces, para acercar los valores de Theta a un minimo"
   ]
  },
  {
   "cell_type": "code",
   "execution_count": 5,
   "metadata": {},
   "outputs": [],
   "source": [
    "Costos = []\n",
    "#ejecutamos el gradiente varias veces para calcular los valores de Thetha mas adecuados\n",
    "for i in range(0,500):\n",
    "    GradienteDes(Hipotesis,Tethas,X,Y,0.01) \n",
    "    Hipotesis = MakeHipotesis(Tethas, x1, x2)\n",
    "    Costos.append(CostFunction(Hipotesis,X,Y))"
   ]
  },
  {
   "cell_type": "markdown",
   "metadata": {},
   "source": [
    "Observamos el valor que ha tomado la hipotesis"
   ]
  },
  {
   "cell_type": "code",
   "execution_count": 6,
   "metadata": {},
   "outputs": [
    {
     "name": "stdout",
     "output_type": "stream",
     "text": [
      "-3.73282315244959e+2334⋅x₁ - 5.39143431790615e+2331⋅x₂ - 1.61619793695809e+233\n",
      "1\n",
      "costo 3.21934553523341e+4675\n"
     ]
    }
   ],
   "source": [
    "#mostamos como esta la hipotesis en este instate\n",
    "sym.pprint(Hipotesis) #mostramos la ecuacion\n",
    "print('costo',CostFunction(Hipotesis,X,Y))"
   ]
  },
  {
   "cell_type": "code",
   "execution_count": 25,
   "metadata": {},
   "outputs": [
    {
     "name": "stdout",
     "output_type": "stream",
     "text": [
      "range(0, 500)\n"
     ]
    },
    {
     "data": {
      "text/plain": [
       "[<matplotlib.lines.Line2D at 0x7f1e4a6ec0f0>]"
      ]
     },
     "execution_count": 25,
     "metadata": {},
     "output_type": "execute_result"
    },
    {
     "data": {
      "image/png": "[encoded data removed]",
      "text/plain": [
       "<matplotlib.figure.Figure at 0x7f1e4a74e668>"
      ]
     },
     "metadata": {},
     "output_type": "display_data"
    }
   ],
   "source": [
    "'''\n",
    "plt.figure(figsize = (15,4),dpi=100)\n",
    "#plt.figure()\n",
    "#plt.subplot(1,3,1)\n",
    "plt.plot(Costos,[i for i in range(len(Costos))])\n",
    "plt.title('Funcion de costo vs iteraciones')\n",
    "plt.ylim(0,23)'''\n",
    "\n",
    "\n",
    "#IMPRIMIMOS LOS COSTOS VS LAS ITERACCIONES\n",
    "'''iterCostos = [i for i in range(len(Costos))]\n",
    "plt.plot(iterCostos,Costos)\n",
    "plt.xlabel('ITERACIONES')\n",
    "plt.ylabel('COSTOS')\n",
    "plt.title('ITERACIONES VS COSTOS')\n",
    "plt.show()'''\n",
    "\n",
    "\n",
    "iterCostos = range(len(Costos))\n",
    "plt.figure()\n",
    "#plt.title('h_theta(x), theta_0=50000 and theta_1=60', fontsize=15)\n",
    "plt.xlabel('Size of House', fontsize=15)\n",
    "plt.ylabel('Price', fontsize=15)\n",
    "#plt.scatter(X,Y,color='red',marker='x')\n",
    "plt.plot(iterCostos,Costos)"
   ]
  },
  {
   "cell_type": "markdown",
   "metadata": {},
   "source": [
    "Ahora procedemos a quitar el sesgo que existe con la forma mas basica, el NuevoX1 = X1/2000, NuevoX2 = X2/5, siendo 5 la casa con mas habitaciones, y 2000 podría ser el tamaño mas grande, en este caso no lo es pero igual lo tomaremos"
   ]
  },
  {
   "cell_type": "code",
   "execution_count": 14,
   "metadata": {},
   "outputs": [
    {
     "name": "stdout",
     "output_type": "stream",
     "text": [
      "x₁ + x₂ + 1\n"
     ]
    }
   ],
   "source": [
    "nuevoX = []#un arreglo para guardar las variables transformadas\n",
    "nuevoThethas = [1,1,1]\n",
    "for i in X:\n",
    "    \n",
    "    nuevoX.append([i[0], i[1]/2000, i[2]/5]) #hacemos la escala\n",
    "\n",
    "#generamos la nuevo hipotesis\n",
    "NHipotesis = MakeHipotesis(nuevoThethas, x1, x2)\n",
    "sym.pprint(NHipotesis)"
   ]
  },
  {
   "cell_type": "markdown",
   "metadata": {},
   "source": [
    "Ahora ejecutaremos el algoritmo del gradiente para este nuevo conjunto de entrenamiento mejorado"
   ]
  },
  {
   "cell_type": "code",
   "execution_count": 15,
   "metadata": {},
   "outputs": [],
   "source": [
    "Costos = []\n",
    "#ejecutamos el gradiente varias veces para calcular los valores de Thetha mas adecuados\n",
    "for i in range(0,500):\n",
    "    GradienteDes(NHipotesis,nuevoThethas,nuevoX,Y,0.01) \n",
    "    NHipotesis = MakeHipotesis(nuevoThethas, x1, x2)\n",
    "    Costos.append(CostFunction(NHipotesis,nuevoX,Y))"
   ]
  },
  {
   "cell_type": "markdown",
   "metadata": {},
   "source": [
    "Ahora visualizaremos el valor de la funcion de costo con las iteraciones."
   ]
  },
  {
   "cell_type": "code",
   "execution_count": 18,
   "metadata": {},
   "outputs": [
    {
     "data": {
      "image/png": "[encoded data removed]",
      "text/plain": [
       "<matplotlib.figure.Figure at 0x7f1e4a79b940>"
      ]
     },
     "metadata": {},
     "output_type": "display_data"
    }
   ],
   "source": [
    "#IMPRIMIMOS LOS COSTOS VS LAS ITERACCIONES\n",
    "iterCostos = [i for i in range(len(Costos))]\n",
    "plt.plot(iterCostos,Costos)\n",
    "plt.xlabel('COSTOS')\n",
    "plt.ylabel('ITERACIONES')\n",
    "plt.title('ITERACIONES VS COSTOS')\n",
    "plt.show()"
   ]
  },
  {
   "cell_type": "code",
   "execution_count": 17,
   "metadata": {},
   "outputs": [
    {
     "name": "stdout",
     "output_type": "stream",
     "text": [
      "8.06780692791638e+4668\n"
     ]
    }
   ],
   "source": [
    "print(Costos[len(Costos) - 1])"
   ]
  },
  {
   "cell_type": "code",
   "execution_count": null,
   "metadata": {},
   "outputs": [],
   "source": []
  }
 ],
 "metadata": {
  "kernelspec": {
   "display_name": "Python 3",
   "language": "python",
   "name": "python3"
  },
  "language_info": {
   "codemirror_mode": {
    "name": "ipython",
    "version": 3
   },
   "file_extension": ".py",
   "mimetype": "text/x-python",
   "name": "python",
   "nbconvert_exporter": "python",
   "pygments_lexer": "ipython3",
   "version": "3.5.3"
  }
 },
 "nbformat": 4,
 "nbformat_minor": 2
}
